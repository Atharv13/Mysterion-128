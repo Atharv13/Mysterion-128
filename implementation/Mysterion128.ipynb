{
  "nbformat": 4,
  "nbformat_minor": 0,
  "metadata": {
    "colab": {
      "provenance": [],
      "toc_visible": true
    },
    "kernelspec": {
      "name": "python3",
      "display_name": "Python 3"
    },
    "language_info": {
      "name": "python"
    }
  },
  "cells": [
    {
      "cell_type": "markdown",
      "source": [
        "# Set-Up"
      ],
      "metadata": {
        "id": "j4oELQwnr0pt"
      }
    },
    {
      "cell_type": "code",
      "execution_count": 128,
      "metadata": {
        "id": "oL3_fg0MeedZ"
      },
      "outputs": [],
      "source": [
        "import numpy as np\n",
        "import codecs"
      ]
    },
    {
      "cell_type": "code",
      "source": [
        "hex_dict={'0':0,'1':1,'2':2,'3':3,'4':4,'5':5,'6':6,'7':7,'8':8,'9':9,'a':10,'b':11,'c':12,'d':13,'e':14,'f':15}\n",
        "S=[0,2,10,9,6,4,14,13,1,7,15,8,11,12,3,5]\n",
        "p=[0,5,10,15,4,9,14,3,8,13,2,7,12,1,6,11]"
      ],
      "metadata": {
        "id": "Zc8ZEmarb57p"
      },
      "execution_count": null,
      "outputs": []
    },
    {
      "cell_type": "code",
      "source": [
        "#Print State Funciton\n",
        "def print_s(state,message):\n",
        "  if debug==True:\n",
        "    print(message)\n",
        "    print()\n",
        "    for i in range(4):\n",
        "        for j in range(4):\n",
        "          t=str(hex(state[i][j]))[2:]\n",
        "          if len(t)<2:\n",
        "            t='0'+t\n",
        "          print(t,' ',end='')\n",
        "        print()\n",
        "    print()\n",
        "  else:\n",
        "    return None"
      ],
      "metadata": {
        "id": "kCPqzKix0F_Z"
      },
      "execution_count": null,
      "outputs": []
    },
    {
      "cell_type": "markdown",
      "source": [
        "# Functions for encryption "
      ],
      "metadata": {
        "id": "1rw50iPlfwXl"
      }
    },
    {
      "cell_type": "code",
      "source": [
        "#S-box\n",
        "\n",
        "def Sbox(n):\n",
        "  a=str(hex(n))[2:]\n",
        "  if len(a)<2:\n",
        "          a='0'+a\n",
        "  a1=hex_dict[a[0]]\n",
        "  a2=hex_dict[a[1]]\n",
        "  r=S[a1]*16+S[a2]\n",
        "  return r\n"
      ],
      "metadata": {
        "id": "ZcToI6hSXHQg"
      },
      "execution_count": null,
      "outputs": []
    },
    {
      "cell_type": "code",
      "source": [
        "#L-box\n",
        "\n",
        "def lbox(state):\n",
        "    state_8=[[],[],[],[]]\n",
        "    for i in range(4):\n",
        "      for j in range(4):\n",
        "        a=str(hex(state[i][j]))[2:]\n",
        "        if len(a)<2:\n",
        "          a='0'+a\n",
        "        a1=hex_dict[a[0]]\n",
        "        a2=hex_dict[a[1]]\n",
        "        state_8[i].append(a1)\n",
        "        state_8[i].append(a2)\n",
        "    poly = [0, 0b1000, 0b0011, 0b1111, 0b0101, 0b1111, 0b0011, 0b1000]\n",
        "    value=[]\n",
        "    for c in range(4):\n",
        "      for _ in range(8):\n",
        "          x = state_8[c][0]\n",
        "          for i in range(8):\n",
        "              x ^= MultiplyGF16(state_8[c][i], poly[i])\n",
        "          state_8[c].pop(0)\n",
        "          state_8[c].append(x)\n",
        "    for e in range(4):\n",
        "      for f in range(4):\n",
        "        state[e][f]=16*state_8[e][2*f]+state_8[e][2*f+1]\n",
        "    return state\n",
        "\n",
        "def MultiplyGF16(a, b, p=0b10011):\n",
        "    result = 0\n",
        "    for _ in range(4):\n",
        "        result ^= (b & 1) * a\n",
        "        a <<= 1\n",
        "        a ^= (a >> 4) * p\n",
        "        b >>= 1\n",
        "    return result\n"
      ],
      "metadata": {
        "id": "luVuxhcSfoy0"
      },
      "execution_count": null,
      "outputs": []
    },
    {
      "cell_type": "code",
      "source": [
        "#Shift Column\n",
        "\n",
        "def ShiftColumns_128(state):\n",
        "  lstate=[]\n",
        "  for i in range(4):\n",
        "    for j in range(4):\n",
        "      lstate.append(state[i][j])\n",
        "  plstate=[0]*16\n",
        "  for i in range(16):\n",
        "    plstate[p[i]]=lstate[i]\n",
        "  value=[]\n",
        "  for i in range(4):\n",
        "    value.append(plstate[4*i:4*i+4])\n",
        "  return value"
      ],
      "metadata": {
        "id": "TvBH1JoMf2CN"
      },
      "execution_count": null,
      "outputs": []
    },
    {
      "cell_type": "code",
      "source": [
        "# Round Constants\n",
        "\n",
        "def roundconst(i):\n",
        "    r=[[[0,0,0,0],[0,0,0,0],[0,0,0,0],[0,0,0,1]],\n",
        "       [[0,0,0,0],[0,0,0,0],[0,0,0,0],[0,0,0,2]],\n",
        "       [[0,0,0,0],[0,0,0,0],[0,0,0,0],[0,0,0,4]],\n",
        "       [[0,0,0,0],[0,0,0,0],[0,0,0,0],[0,0,0,8]],\n",
        "       [[0,0,0,0],[0,0,0,0],[0,0,0,0],[0,0,0,16]],\n",
        "       [[0,0,0,0],[0,0,0,0],[0,0,0,0],[0,0,0,32]],\n",
        "       [[0,0,0,0],[0,0,0,0],[0,0,0,0],[0,0,0,64]],\n",
        "       [[0,0,0,0],[0,0,0,0],[0,0,0,0],[0,0,0,128]],\n",
        "       [[0,0,0,0],[0,0,0,0],[0,0,0,0],[0,0,0,27]],\n",
        "       [[0,0,0,0],[0,0,0,0],[0,0,0,0],[0,0,0,54]],\n",
        "       [[0,0,0,0],[0,0,0,0],[0,0,0,0],[0,0,0,108]],\n",
        "       [[0,0,0,0],[0,0,0,0],[0,0,0,0],[0,0,0,40]]]\n",
        "    return r[i]"
      ],
      "metadata": {
        "id": "MlrKhFpfg7S8"
      },
      "execution_count": null,
      "outputs": []
    },
    {
      "cell_type": "code",
      "source": [
        "def Mysterion128(key, m, NR):\n",
        "  temp=''\n",
        "  # adding key initially\n",
        "  print_s(m,'Initially Message is:')\n",
        "  print() \n",
        "\n",
        "  state = np.array( [x ^ y for x, y in zip(key, m)] )\n",
        "  #print(state)\n",
        "  if (debug or rounds):\n",
        "    print('After Adding K_0:')\n",
        "    print()\n",
        "    for i in range(4):\n",
        "      for j in range(4):\n",
        "        t=str(hex(state[i][j]))[2:]\n",
        "        if len(t)<2:\n",
        "          t='0'+t\n",
        "        print(t,' ',end='')\n",
        "      print() \n",
        "\n",
        "  for round in range(1, NR + 1):\n",
        "    if debug:\n",
        "      print('------------Round No'+' : '+str(round)+'------------------')\n",
        "      print()\n",
        "    # S-box\n",
        "    for i in range(4):\n",
        "      for j in range(4):\n",
        "        tp=Sbox(state[i][j])\n",
        "        state[i][j]=tp\n",
        "    print_s(state,'After S-box Operation:')\n",
        "\n",
        "    # L-box\n",
        "    for i in range(4):\n",
        "      for j in range(4):\n",
        "        state=lbox(state)\n",
        "    print_s(state,'After L-box Operation:')\n",
        "\n",
        "    # ShiftColumns 128-bit\n",
        "    state = ShiftColumns_128(state)\n",
        "    print_s(state,'After Shift Column:')\n",
        "\n",
        "    #key addition\n",
        "    state = np.array( [x ^ y for x, y in zip(key, state)])\n",
        "    print_s(state,'After Key Addition:')\n",
        "\n",
        "    #round Constant\n",
        "    rc=roundconst(round-1)\n",
        "    state = np.array( [x ^ c for x, c in zip(state, rc)])\n",
        "    print_s(state,'After Round Constant:')\n",
        "\n",
        "    if rounds==True:\n",
        "      print()\n",
        "      print('Round No : '+str(round))\n",
        "      for i in range(4):\n",
        "        for j in range(4):\n",
        "          t=str(hex(state[i][j]))[2:]\n",
        "          if len(t)<2:\n",
        "            t='0'+t\n",
        "          print(t,' ',end='')\n",
        "        print()\n",
        "      print()\n",
        "  \n",
        "  print('Ciphertext is: ')\n",
        "  for i in range(4):\n",
        "      for j in range(4):\n",
        "        t=str(hex(state[i][j]))[2:]\n",
        "        if len(t)<2:\n",
        "          t='0'+t\n",
        "        temp+=t\n",
        "  temp=temp.upper()\n",
        "  print(temp)\n",
        "  return temp"
      ],
      "metadata": {
        "id": "j1mGb1HFf4mu"
      },
      "execution_count": 108,
      "outputs": []
    },
    {
      "cell_type": "markdown",
      "source": [
        "# Functions For Decryption"
      ],
      "metadata": {
        "id": "WBlkrdABrp-7"
      }
    },
    {
      "cell_type": "code",
      "source": [
        "def sbox_rev(n):\n",
        "    a=str(hex(n))[2:]\n",
        "    if len(a)<2:\n",
        "            a='0'+a\n",
        "    a1=hex_dict[a[0]]\n",
        "    a2=hex_dict[a[1]]\n",
        "    \n",
        "    r=S.index(a1)*16+S.index(a2)\n",
        "    return r"
      ],
      "metadata": {
        "id": "-fa3HDQGnWTu"
      },
      "execution_count": 157,
      "outputs": []
    },
    {
      "cell_type": "code",
      "source": [
        "def rev_lbox(state):\n",
        "    state_8=[[],[],[],[]]\n",
        "    for i in range(4):\n",
        "      for j in range(4):\n",
        "        a=str(hex(state[i][j]))[2:]\n",
        "        if len(a)<2:\n",
        "          a='0'+a\n",
        "        a1=hex_dict[a[0]]\n",
        "        a2=hex_dict[a[1]]\n",
        "        state_8[i].append(a1)\n",
        "        state_8[i].append(a2)\n",
        "    \n",
        "    poly = [0b1000, 0b0011, 0b1111, 0b0101, 0b1111, 0b0011, 0b1000, 0]\n",
        "    value=[]\n",
        "    for c in range(4):\n",
        "      for _ in range(8):\n",
        "          x = state_8[c][7]\n",
        "         \n",
        "          for i in range(8):\n",
        "              x ^= MultiplyGF16(state_8[c][i], poly[i])\n",
        "              \n",
        "          state_8[c].pop(7)\n",
        "          state_8[c]=[x]+state_8[c][:]\n",
        "\n",
        "    for e in range(4):\n",
        "      for f in range(4):\n",
        "        state[e][f]=16*state_8[e][2*f]+state_8[e][2*f+1]\n",
        "\n",
        "    return state"
      ],
      "metadata": {
        "id": "OZUOk36VnfnK"
      },
      "execution_count": 156,
      "outputs": []
    },
    {
      "cell_type": "code",
      "source": [
        "def ShiftColumns_128_inv(state):\n",
        "    lstate=[]\n",
        "    for i in range(4):\n",
        "      for j in range(4):\n",
        "        lstate.append(state[i][j])\n",
        "    plstate=[0]*16\n",
        "    for i in range(16):\n",
        "      plstate[i]=lstate[p[i]]\n",
        "    value=[]\n",
        "    for i in range(4):\n",
        "      value.append(plstate[4*i:4*i+4])\n",
        "    return value"
      ],
      "metadata": {
        "id": "qIaKPYnonlbn"
      },
      "execution_count": null,
      "outputs": []
    },
    {
      "cell_type": "code",
      "source": [
        "def InvMysterion128(c, key, NR):\n",
        "  state=c\n",
        "  for round in range(NR, 0, -1):\n",
        "    if rounds==True:\n",
        "      print()\n",
        "      print('Round No : '+str(round))\n",
        "      for i in range(4):\n",
        "        for j in range(4):\n",
        "          t=str(hex(state[i][j]))[2:]\n",
        "          if len(t)<2:\n",
        "            t='0'+t\n",
        "          print(t,' ',end='')\n",
        "        print()\n",
        "      print()\n",
        "\n",
        "    if debug:\n",
        "      print('----------Round No'+' : '+str(round)+'----------')\n",
        "      print_s(state,'')\n",
        "\n",
        "\n",
        "    rc=roundconst(round-1)\n",
        "\n",
        "    for h in range(4):\n",
        "      for g in range(4):\n",
        "        f=state[h][g]\n",
        "        state[h][g]=f^rc[h][g]\n",
        "    print_s(state,'After Rev-Constant:')\n",
        "\n",
        "    #revrse key\n",
        "    state = np.array( [a^b for a, b in zip(state, key)])\n",
        "    print_s(state,'After Rev-Key:')\n",
        "    \n",
        "    #revrse shift-row\n",
        "    state = ShiftColumns_128_inv(state)\n",
        "    print_s(state,'After Rev-ShiftRow:')\n",
        "\n",
        "    # L-box inverse\n",
        "    for i in range(4):\n",
        "      for j in range(4):\n",
        "        state=rev_lbox(state)\n",
        "    print_s(state,'After Rev-L-box:')\n",
        "\n",
        "    # S-box inverse\n",
        "    for i in range(4):\n",
        "      for j in range(4):\n",
        "        tp=sbox_rev(state[i][j])\n",
        "        state[i][j]=tp\n",
        "    print_s(state,'after Rev-sbox')\n",
        "\n",
        "\n",
        "  #intial key removal\n",
        "  state = np.array( [x ^ y for x, y in zip(state, key)] )\n",
        "  if (debug or rounds):\n",
        "    print('After Removing K_0:')\n",
        "    print()\n",
        "    for i in range(4):\n",
        "      for j in range(4):\n",
        "        t=str(hex(state[i][j]))[2:]\n",
        "        if len(t)<2:\n",
        "          t='0'+t\n",
        "        print(t,' ',end='')\n",
        "      print() \n",
        "  \n",
        "  print('Message is:')\n",
        "  temp=''\n",
        "  for i in range(4):\n",
        "      for j in range(4):\n",
        "        t=str(hex(state[i][j]))[2:]\n",
        "        if len(t)<2:\n",
        "          t='0'+t\n",
        "        temp+=t\n",
        "  temp=temp.upper()\n",
        "  print(temp)\n",
        "  return temp"
      ],
      "metadata": {
        "id": "OLWMq1c9npvV"
      },
      "execution_count": 111,
      "outputs": []
    },
    {
      "cell_type": "markdown",
      "source": [
        "# Encryption and Decryption"
      ],
      "metadata": {
        "id": "dCVK-WfvsYHc"
      }
    },
    {
      "cell_type": "code",
      "source": [
        "def encrypt(m, k, r):\n",
        "\n",
        "    m = list(bytearray.fromhex(m))\n",
        "    k = list(bytearray.fromhex(k))\n",
        "\n",
        "    m = np.array([m[i*4:(i+1)*4] for i in range(4)])\n",
        "    k = np.array([k[i*4:(i+1)*4] for i in range(4)])\n",
        "\n",
        "    ct = Mysterion128(k, m, r)\n",
        "    \n",
        "    return ct"
      ],
      "metadata": {
        "id": "06Rhlk3YhEHu"
      },
      "execution_count": null,
      "outputs": []
    },
    {
      "cell_type": "code",
      "source": [
        "def decrypt(c, k, r):\n",
        "    c = list(bytearray.fromhex(c))\n",
        "    k = list(bytearray.fromhex(k))\n",
        "\n",
        "    # spliting message in blocks \n",
        "    c = np.array([c[i*4:(i+1)*4] for i in range(4)])\n",
        "    k = np.array([k[i*4:(i+1)*4] for i in range(4)])\n",
        "\n",
        "    cpt = InvMysterion128(c, k, r)\n",
        "    return cpt"
      ],
      "metadata": {
        "id": "AM4rEEI8nsDK"
      },
      "execution_count": 124,
      "outputs": []
    },
    {
      "cell_type": "markdown",
      "source": [
        "# Running"
      ],
      "metadata": {
        "id": "FQEZqi0OvUxd"
      }
    },
    {
      "cell_type": "code",
      "source": [
        "inp='SHA 69 is best'\n",
        "\n",
        "#String To Hex\n",
        "message=\"\".join([\"{:02x}\".format(ord(c)) for c in inp])\n",
        "#Padding\n",
        "if len(message)<32:\n",
        "  message=message+'0'*(32-len(message))\n",
        "if len(message)>32:\n",
        "  message=message[:32]\n",
        "\n",
        "message=message.upper()\n",
        "\n",
        "key='0205060752F3E1F2132435465B6C7D88'\n",
        "r=12\n",
        "debug=False\n",
        "rounds=True\n",
        "ciphertext= encrypt(message,key,r)\n"
      ],
      "metadata": {
        "colab": {
          "base_uri": "https://localhost:8080/"
        },
        "id": "v1u4UgPEhTys",
        "outputId": "80c1c4e8-166e-4c31-f888-2021a7e9c8ba"
      },
      "execution_count": 158,
      "outputs": [
        {
          "output_type": "stream",
          "name": "stdout",
          "text": [
            "\n",
            "After Adding K_0:\n",
            "\n",
            "51  4d  47  27  \n",
            "64  ca  c1  9b  \n",
            "60  04  57  23  \n",
            "28  18  7d  88  \n",
            "\n",
            "Round No : 1\n",
            "00  16  d0  11  \n",
            "a9  12  f3  fd  \n",
            "12  82  12  eb  \n",
            "05  f1  a3  f6  \n",
            "\n",
            "\n",
            "Round No : 2\n",
            "0b  41  84  3a  \n",
            "85  28  9d  34  \n",
            "cf  77  17  24  \n",
            "05  71  b7  fd  \n",
            "\n",
            "\n",
            "Round No : 3\n",
            "ed  e5  1a  04  \n",
            "76  52  14  91  \n",
            "e9  be  dd  50  \n",
            "2b  2b  0e  17  \n",
            "\n",
            "\n",
            "Round No : 4\n",
            "a0  d5  5f  b1  \n",
            "d2  9b  30  a7  \n",
            "81  b2  96  6b  \n",
            "55  6a  95  40  \n",
            "\n",
            "\n",
            "Round No : 5\n",
            "6f  87  9f  57  \n",
            "9a  00  0c  d2  \n",
            "a2  33  e0  6d  \n",
            "19  b2  4b  4e  \n",
            "\n",
            "\n",
            "Round No : 6\n",
            "b5  16  d0  06  \n",
            "c4  fc  c0  6c  \n",
            "48  ac  68  e0  \n",
            "6c  d3  48  32  \n",
            "\n",
            "\n",
            "Round No : 7\n",
            "dd  b2  74  cc  \n",
            "51  ad  2f  52  \n",
            "84  74  5b  8b  \n",
            "00  46  b8  a0  \n",
            "\n",
            "\n",
            "Round No : 8\n",
            "a8  c9  d2  2b  \n",
            "16  d4  76  e8  \n",
            "e7  17  ff  62  \n",
            "51  f8  1d  31  \n",
            "\n",
            "\n",
            "Round No : 9\n",
            "18  e0  43  7c  \n",
            "45  5c  d6  96  \n",
            "8c  63  cd  c9  \n",
            "f0  ee  6e  b8  \n",
            "\n",
            "\n",
            "Round No : 10\n",
            "da  02  05  9c  \n",
            "3e  68  8f  7e  \n",
            "08  8e  e6  d8  \n",
            "34  20  07  39  \n",
            "\n",
            "\n",
            "Round No : 11\n",
            "5b  21  b3  67  \n",
            "3a  c7  fe  09  \n",
            "d2  ae  f6  93  \n",
            "c7  57  d2  b2  \n",
            "\n",
            "\n",
            "Round No : 12\n",
            "d6  b7  23  2a  \n",
            "3f  1a  51  93  \n",
            "d9  c1  47  33  \n",
            "17  c6  08  a6  \n",
            "\n",
            "Ciphertext is: \n",
            "D6B7232A3F1A5193D9C1473317C608A6\n"
          ]
        }
      ]
    },
    {
      "cell_type": "code",
      "source": [
        "d=decrypt(ciphertext,key,r)\n",
        "\n",
        "d_a = codecs.decode(d, \"hex\")\n",
        "print('Ascii is: ',str(d_a,'utf-8'))\n",
        "\n",
        "if len(inp)<16:\n",
        "  d=d[:len(d)-2*(16-len(inp))]\n",
        "  d_a = codecs.decode(d, \"hex\")\n",
        "  print()\n",
        "  print('Ascii(without garbage) is: ')\n",
        "  print(str(d_a,'utf-8'))"
      ],
      "metadata": {
        "colab": {
          "base_uri": "https://localhost:8080/"
        },
        "id": "UYXHlxGgos4w",
        "outputId": "7a230499-d2bb-4bef-8914-0d22ef45f63d"
      },
      "execution_count": 159,
      "outputs": [
        {
          "output_type": "stream",
          "name": "stdout",
          "text": [
            "\n",
            "Round No : 12\n",
            "d6  b7  23  2a  \n",
            "3f  1a  51  93  \n",
            "d9  c1  47  33  \n",
            "17  c6  08  a6  \n",
            "\n",
            "\n",
            "Round No : 11\n",
            "5b  21  b3  67  \n",
            "3a  c7  fe  09  \n",
            "d2  ae  f6  93  \n",
            "c7  57  d2  b2  \n",
            "\n",
            "\n",
            "Round No : 10\n",
            "da  02  05  9c  \n",
            "3e  68  8f  7e  \n",
            "08  8e  e6  d8  \n",
            "34  20  07  39  \n",
            "\n",
            "\n",
            "Round No : 9\n",
            "18  e0  43  7c  \n",
            "45  5c  d6  96  \n",
            "8c  63  cd  c9  \n",
            "f0  ee  6e  b8  \n",
            "\n",
            "\n",
            "Round No : 8\n",
            "a8  c9  d2  2b  \n",
            "16  d4  76  e8  \n",
            "e7  17  ff  62  \n",
            "51  f8  1d  31  \n",
            "\n",
            "\n",
            "Round No : 7\n",
            "dd  b2  74  cc  \n",
            "51  ad  2f  52  \n",
            "84  74  5b  8b  \n",
            "00  46  b8  a0  \n",
            "\n",
            "\n",
            "Round No : 6\n",
            "b5  16  d0  06  \n",
            "c4  fc  c0  6c  \n",
            "48  ac  68  e0  \n",
            "6c  d3  48  32  \n",
            "\n",
            "\n",
            "Round No : 5\n",
            "6f  87  9f  57  \n",
            "9a  00  0c  d2  \n",
            "a2  33  e0  6d  \n",
            "19  b2  4b  4e  \n",
            "\n",
            "\n",
            "Round No : 4\n",
            "a0  d5  5f  b1  \n",
            "d2  9b  30  a7  \n",
            "81  b2  96  6b  \n",
            "55  6a  95  40  \n",
            "\n",
            "\n",
            "Round No : 3\n",
            "ed  e5  1a  04  \n",
            "76  52  14  91  \n",
            "e9  be  dd  50  \n",
            "2b  2b  0e  17  \n",
            "\n",
            "\n",
            "Round No : 2\n",
            "0b  41  84  3a  \n",
            "85  28  9d  34  \n",
            "cf  77  17  24  \n",
            "05  71  b7  fd  \n",
            "\n",
            "\n",
            "Round No : 1\n",
            "00  16  d0  11  \n",
            "a9  12  f3  fd  \n",
            "12  82  12  eb  \n",
            "05  f1  a3  f6  \n",
            "\n",
            "After Removing K_0:\n",
            "\n",
            "53  48  41  20  \n",
            "36  39  20  69  \n",
            "73  20  62  65  \n",
            "73  74  00  00  \n",
            "Messge is:\n",
            "53484120363920697320626573740000\n",
            "Ascii is:  SHA 69 is best\u0000\u0000\n",
            "\n",
            "Ascii(without garbage) is: \n",
            "SHA 69 is best\n"
          ]
        }
      ]
    }
  ]
}